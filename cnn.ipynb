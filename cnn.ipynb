{
 "cells": [
  {
   "cell_type": "code",
   "execution_count": 23,
   "metadata": {},
   "outputs": [],
   "source": [
    "import numpy as np\n",
    "import matplotlib.pyplot as plt\n",
    "from tensorflow import keras"
   ]
  },
  {
   "cell_type": "code",
   "execution_count": 24,
   "metadata": {},
   "outputs": [
    {
     "name": "stdout",
     "output_type": "stream",
     "text": [
      "train_set:\t (60000, 28, 28, 1)\n",
      "y_train :\t (60000,)\n",
      "test_set:\t (10000, 28, 28, 1)\n",
      "y_test  :\t (10000,)\n"
     ]
    }
   ],
   "source": [
    "# Chargement des données MNIST\n",
    "(x_train, y_train), (x_test, y_test) = keras.datasets.mnist.load_data()\n",
    "x_train = x_train.reshape(-1,28,28,1)\n",
    "x_test  = x_test.reshape(-1,28,28,1)\n",
    "print('train_set:\\t', x_train.shape) # 60,000 images\n",
    "print(\"y_train :\\t\",y_train.shape)\n",
    "print('test_set:\\t', x_test.shape) # 10,000 images\n",
    "print(\"y_test  :\\t\",y_test.shape)"
   ]
  },
  {
   "cell_type": "code",
   "execution_count": 25,
   "metadata": {},
   "outputs": [],
   "source": [
    "#on normalise les donneés\n",
    "x_train = x_train / 255\n",
    "x_test = x_test / 255"
   ]
  },
  {
   "cell_type": "code",
   "execution_count": 26,
   "metadata": {},
   "outputs": [
    {
     "data": {
      "image/png": "[encoded data removed]",
      "text/plain": [
       "<Figure size 1440x288 with 10 Axes>"
      ]
     },
     "metadata": {
      "needs_background": "light"
     },
     "output_type": "display_data"
    }
   ],
   "source": [
    "#Visualisation des données\n",
    "\n",
    "plt.figure(figsize=(20,4))\n",
    "for i in range (10):\n",
    "    plt.subplot(1,10,i+1)\n",
    "    plt.imshow(x_train[i])\n",
    "    plt.title(f\"num: {y_train[i]}\",fontsize=20)\n",
    "    \n",
    "plt.tight_layout()\n",
    "plt.show()"
   ]
  },
  {
   "cell_type": "code",
   "execution_count": 36,
   "metadata": {},
   "outputs": [],
   "source": [
    "model=keras.Sequential([\n",
    "    \n",
    "    keras.layers.Input((28,28,1)),\n",
    "    keras.layers.Conv2D(8, (3,3),  activation='relu',strides=(1, 1), padding='same'),\n",
    "    keras.layers.MaxPooling2D((2,2)),\n",
    "    keras.layers.Dropout(0.2),\n",
    "    #la taille de l'images est (14,14,32)\n",
    "    \n",
    "    keras.layers.Conv2D(16,(3,3),activation='relu',strides=(1, 1), padding='same'),\n",
    "    keras.layers.MaxPooling2D((2,2)),\n",
    "    keras.layers.Dropout(0.2),\n",
    "    #la taille de l'images est (7,7,64)\n",
    "    \n",
    "    keras.layers.Flatten(), # Conversion des matrices 3D en vecteur 1D\n",
    "    keras.layers.Dense(128,activation='relu'),\n",
    "    keras.layers.Dropout(0.4),\n",
    "    keras.layers.Dense(10,activation='softmax')\n",
    "    \n",
    "])"
   ]
  },
  {
   "cell_type": "code",
   "execution_count": 37,
   "metadata": {},
   "outputs": [
    {
     "name": "stdout",
     "output_type": "stream",
     "text": [
      "Model: \"sequential_2\"\n",
      "_________________________________________________________________\n",
      " Layer (type)                Output Shape              Param #   \n",
      "=================================================================\n",
      " conv2d_4 (Conv2D)           (None, 28, 28, 8)         80        \n",
      "                                                                 \n",
      " max_pooling2d_4 (MaxPooling  (None, 14, 14, 8)        0         \n",
      " 2D)                                                             \n",
      "                                                                 \n",
      " dropout_6 (Dropout)         (None, 14, 14, 8)         0         \n",
      "                                                                 \n",
      " conv2d_5 (Conv2D)           (None, 14, 14, 16)        1168      \n",
      "                                                                 \n",
      " max_pooling2d_5 (MaxPooling  (None, 7, 7, 16)         0         \n",
      " 2D)                                                             \n",
      "                                                                 \n",
      " dropout_7 (Dropout)         (None, 7, 7, 16)          0         \n",
      "                                                                 \n",
      " flatten_2 (Flatten)         (None, 784)               0         \n",
      "                                                                 \n",
      " dense_4 (Dense)             (None, 128)               100480    \n",
      "                                                                 \n",
      " dropout_8 (Dropout)         (None, 128)               0         \n",
      "                                                                 \n",
      " dense_5 (Dense)             (None, 10)                1290      \n",
      "                                                                 \n",
      "=================================================================\n",
      "Total params: 103,018\n",
      "Trainable params: 103,018\n",
      "Non-trainable params: 0\n",
      "_________________________________________________________________\n"
     ]
    }
   ],
   "source": [
    "model.summary()\n",
    "#categorical_crossentropy\n",
    "model.compile(optimizer='adam',\n",
    "              loss='sparse_categorical_crossentropy',\n",
    "              metrics=['accuracy'])"
   ]
  },
  {
   "cell_type": "code",
   "execution_count": 7,
   "metadata": {},
   "outputs": [
    {
     "name": "stdout",
     "output_type": "stream",
     "text": [
      "Requirement already satisfied: scikeras in /Users/mohammedherrag/opt/anaconda3/lib/python3.8/site-packages (0.4.1)\n",
      "Requirement already satisfied: packaging<22.0,>=0.21 in /Users/mohammedherrag/opt/anaconda3/lib/python3.8/site-packages (from scikeras) (20.4)\n",
      "Requirement already satisfied: scikit-learn>=0.22.0 in /Users/mohammedherrag/opt/anaconda3/lib/python3.8/site-packages (from scikeras) (0.23.2)\n",
      "Requirement already satisfied: pyparsing>=2.0.2 in /Users/mohammedherrag/opt/anaconda3/lib/python3.8/site-packages (from packaging<22.0,>=0.21->scikeras) (2.4.7)\n",
      "Requirement already satisfied: six in /Users/mohammedherrag/opt/anaconda3/lib/python3.8/site-packages (from packaging<22.0,>=0.21->scikeras) (1.15.0)\n",
      "Requirement already satisfied: joblib>=0.11 in /Users/mohammedherrag/opt/anaconda3/lib/python3.8/site-packages (from scikit-learn>=0.22.0->scikeras) (0.17.0)\n",
      "Requirement already satisfied: numpy>=1.13.3 in /Users/mohammedherrag/opt/anaconda3/lib/python3.8/site-packages (from scikit-learn>=0.22.0->scikeras) (1.19.2)\n",
      "Requirement already satisfied: scipy>=0.19.1 in /Users/mohammedherrag/opt/anaconda3/lib/python3.8/site-packages (from scikit-learn>=0.22.0->scikeras) (1.5.2)\n",
      "Requirement already satisfied: threadpoolctl>=2.0.0 in /Users/mohammedherrag/opt/anaconda3/lib/python3.8/site-packages (from scikit-learn>=0.22.0->scikeras) (2.1.0)\n"
     ]
    }
   ],
   "source": [
    "!pip install scikeras"
   ]
  },
  {
   "cell_type": "code",
   "execution_count": 29,
   "metadata": {},
   "outputs": [],
   "source": [
    "EPOCH = np.array([16,10])\n",
    "BATCH_SIZE = np.array([128,512])\n",
    "hyperMatrix = dict(epochs=EPOCH, batch_size=BATCH_SIZE)"
   ]
  },
  {
   "cell_type": "code",
   "execution_count": null,
   "metadata": {},
   "outputs": [],
   "source": [
    "from scikeras.wrappers import KerasClassifier\n",
    "from sklearn.model_selection import GridSearchCV\n",
    "model_KerasClassifier = KerasClassifier(model=model,verbose=1,optimizer='adam')\n",
    "gs = GridSearchCV(estimator=model_KerasClassifier, param_grid=hyperMatrix )\n",
    "\n",
    "# On lance l'entrainement\n",
    "gs.fit(x_train, y_train)"
   ]
  },
  {
   "cell_type": "code",
   "execution_count": 41,
   "metadata": {},
   "outputs": [
    {
     "name": "stdout",
     "output_type": "stream",
     "text": [
      "Meilleur Paramétrer:\t{'batch_size': 128, 'epochs': 16}\n",
      "Meilleur Score:\t\t98.83166666666666%\n"
     ]
    }
   ],
   "source": [
    "print(f\"Meilleur Paramétrer:\\t{gs.best_params_}\")\n",
    "print(f\"Meilleur Score:\\t\\t{gs.best_score_*100}%\")"
   ]
  },
  {
   "cell_type": "code",
   "execution_count": 43,
   "metadata": {},
   "outputs": [
    {
     "name": "stdout",
     "output_type": "stream",
     "text": [
      "Epoch 1/16\n",
      "469/469 [==============================] - 9s 18ms/step - loss: 0.1054 - accuracy: 0.9672 - val_loss: 0.0436 - val_accuracy: 0.9849\n",
      "Epoch 2/16\n",
      "469/469 [==============================] - 9s 18ms/step - loss: 0.0904 - accuracy: 0.9713 - val_loss: 0.0401 - val_accuracy: 0.9870\n",
      "Epoch 3/16\n",
      "469/469 [==============================] - 10s 22ms/step - loss: 0.0815 - accuracy: 0.9748 - val_loss: 0.0367 - val_accuracy: 0.9883\n",
      "Epoch 4/16\n",
      "469/469 [==============================] - 13s 27ms/step - loss: 0.0774 - accuracy: 0.9754 - val_loss: 0.0354 - val_accuracy: 0.9884\n",
      "Epoch 5/16\n",
      "469/469 [==============================] - 10s 22ms/step - loss: 0.0711 - accuracy: 0.9784 - val_loss: 0.0320 - val_accuracy: 0.9891\n",
      "Epoch 6/16\n",
      "469/469 [==============================] - 9s 20ms/step - loss: 0.0684 - accuracy: 0.9779 - val_loss: 0.0327 - val_accuracy: 0.9880\n",
      "Epoch 7/16\n",
      "469/469 [==============================] - 11s 23ms/step - loss: 0.0650 - accuracy: 0.9798 - val_loss: 0.0313 - val_accuracy: 0.9889\n",
      "Epoch 8/16\n",
      "469/469 [==============================] - 11s 24ms/step - loss: 0.0624 - accuracy: 0.9806 - val_loss: 0.0302 - val_accuracy: 0.9898\n",
      "Epoch 9/16\n",
      "469/469 [==============================] - 10s 22ms/step - loss: 0.0587 - accuracy: 0.9816 - val_loss: 0.0302 - val_accuracy: 0.9895\n",
      "Epoch 10/16\n",
      "469/469 [==============================] - 10s 22ms/step - loss: 0.0576 - accuracy: 0.9816 - val_loss: 0.0271 - val_accuracy: 0.9904\n",
      "Epoch 11/16\n",
      "469/469 [==============================] - 9s 20ms/step - loss: 0.0562 - accuracy: 0.9821 - val_loss: 0.0266 - val_accuracy: 0.9914\n",
      "Epoch 12/16\n",
      "469/469 [==============================] - 9s 19ms/step - loss: 0.0576 - accuracy: 0.9821 - val_loss: 0.0272 - val_accuracy: 0.9904\n",
      "Epoch 13/16\n",
      "469/469 [==============================] - 9s 19ms/step - loss: 0.0540 - accuracy: 0.9829 - val_loss: 0.0259 - val_accuracy: 0.9911\n",
      "Epoch 14/16\n",
      "469/469 [==============================] - 9s 19ms/step - loss: 0.0520 - accuracy: 0.9834 - val_loss: 0.0251 - val_accuracy: 0.9919\n",
      "Epoch 15/16\n",
      "469/469 [==============================] - 9s 19ms/step - loss: 0.0510 - accuracy: 0.9837 - val_loss: 0.0276 - val_accuracy: 0.9905\n",
      "Epoch 16/16\n",
      "469/469 [==============================] - 9s 19ms/step - loss: 0.0516 - accuracy: 0.9832 - val_loss: 0.0243 - val_accuracy: 0.9915\n"
     ]
    }
   ],
   "source": [
    "batch_size = 128\n",
    "epochs = 16\n",
    "history = model.fit(  x_train, y_train,\n",
    "                      batch_size      = batch_size,\n",
    "                      epochs          = epochs,\n",
    "                      verbose         = 1,\n",
    "                      validation_data = (x_test, y_test))"
   ]
  },
  {
   "cell_type": "code",
   "execution_count": 44,
   "metadata": {},
   "outputs": [
    {
     "name": "stdout",
     "output_type": "stream",
     "text": [
      "313/313 [==============================] - 1s 2ms/step - loss: 0.0243 - accuracy: 0.9915\n"
     ]
    }
   ],
   "source": [
    "score = model.evaluate(x_test, y_test, verbose=1)\n",
    "score"
   ]
  },
  {
   "cell_type": "code",
   "execution_count": null,
   "metadata": {},
   "outputs": [],
   "source": []
  }
 ],
 "metadata": {
  "kernelspec": {
   "display_name": "Python (myenv)",
   "language": "python",
   "name": "myenv"
  },
  "language_info": {
   "codemirror_mode": {
    "name": "ipython",
    "version": 3
   },
   "file_extension": ".py",
   "mimetype": "text/x-python",
   "name": "python",
   "nbconvert_exporter": "python",
   "pygments_lexer": "ipython3",
   "version": "3.8.5"
  }
 },
 "nbformat": 4,
 "nbformat_minor": 4
}
