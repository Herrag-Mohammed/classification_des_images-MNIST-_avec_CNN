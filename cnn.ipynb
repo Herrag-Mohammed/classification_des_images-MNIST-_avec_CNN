{
 "cells": [
  {
   "cell_type": "code",
   "execution_count": 2,
   "metadata": {},
   "outputs": [],
   "source": [
    "import numpy as np\n",
    "import matplotlib.pyplot as plt\n",
    "from tensorflow import keras"
   ]
  },
  {
   "cell_type": "code",
   "execution_count": 3,
   "metadata": {},
   "outputs": [
    {
     "name": "stdout",
     "output_type": "stream",
     "text": [
      "train_set:\t (60000, 28, 28, 1)\n",
      "y_train :\t (60000,)\n",
      "test_set:\t (10000, 28, 28, 1)\n",
      "y_test  :\t (10000,)\n"
     ]
    }
   ],
   "source": [
    "# Chargement des données MNIST\n",
    "(x_train, y_train), (x_test, y_test) = keras.datasets.mnist.load_data()\n",
    "x_train = x_train.reshape(-1,28,28,1)\n",
    "x_test  = x_test.reshape(-1,28,28,1)\n",
    "print('train_set:\\t', x_train.shape) # 60,000 images\n",
    "print(\"y_train :\\t\",y_train.shape)\n",
    "print('test_set:\\t', x_test.shape) # 10,000 images\n",
    "print(\"y_test  :\\t\",y_test.shape)"
   ]
  },
  {
   "cell_type": "code",
   "execution_count": 4,
   "metadata": {},
   "outputs": [],
   "source": [
    "#on normalise les donneés\n",
    "x_train = x_train / 255\n",
    "x_test = x_test / 255"
   ]
  },
  {
   "cell_type": "code",
   "execution_count": 5,
   "metadata": {},
   "outputs": [
    {
     "data": {
      "image/png": "[encoded data removed]",
      "text/plain": [
       "<Figure size 1440x288 with 10 Axes>"
      ]
     },
     "metadata": {
      "needs_background": "light"
     },
     "output_type": "display_data"
    }
   ],
   "source": [
    "#Visualisation des données\n",
    "\n",
    "plt.figure(figsize=(20,4))\n",
    "for i in range (10):\n",
    "    plt.subplot(1,10,i+1)\n",
    "    plt.imshow(x_train[i])\n",
    "    plt.title(f\"num: {y_train[i]}\",fontsize=20)\n",
    "    \n",
    "plt.tight_layout()\n",
    "plt.show()"
   ]
  },
  {
   "cell_type": "code",
   "execution_count": 6,
   "metadata": {},
   "outputs": [],
   "source": [
    "model=keras.Sequential([\n",
    "    \n",
    "    keras.layers.Input((28,28,1)),\n",
    "    keras.layers.Conv2D(8, (3,3),  activation='relu',strides=(1, 1), padding='same'),\n",
    "    keras.layers.MaxPooling2D((2,2)),\n",
    "    keras.layers.Dropout(0.2),\n",
    "    #la taille de l'images est (14,14,32)\n",
    "    \n",
    "    keras.layers.Conv2D(16,(3,3),activation='relu',strides=(1, 1), padding='same'),\n",
    "    keras.layers.MaxPooling2D((2,2)),\n",
    "    keras.layers.Dropout(0.2),\n",
    "    #la taille de l'images est (7,7,64)\n",
    "    \n",
    "    keras.layers.Flatten(), # Conversion des matrices 3D en vecteur 1D\n",
    "    keras.layers.Dense(128,activation='relu'),\n",
    "    keras.layers.Dropout(0.4),\n",
    "    keras.layers.Dense(10,activation='softmax')\n",
    "    \n",
    "])"
   ]
  },
  {
   "cell_type": "code",
   "execution_count": 7,
   "metadata": {},
   "outputs": [
    {
     "name": "stdout",
     "output_type": "stream",
     "text": [
      "Model: \"sequential\"\n",
      "_________________________________________________________________\n",
      " Layer (type)                Output Shape              Param #   \n",
      "=================================================================\n",
      " conv2d (Conv2D)             (None, 28, 28, 8)         80        \n",
      "                                                                 \n",
      " max_pooling2d (MaxPooling2D  (None, 14, 14, 8)        0         \n",
      " )                                                               \n",
      "                                                                 \n",
      " dropout (Dropout)           (None, 14, 14, 8)         0         \n",
      "                                                                 \n",
      " conv2d_1 (Conv2D)           (None, 14, 14, 16)        1168      \n",
      "                                                                 \n",
      " max_pooling2d_1 (MaxPooling  (None, 7, 7, 16)         0         \n",
      " 2D)                                                             \n",
      "                                                                 \n",
      " dropout_1 (Dropout)         (None, 7, 7, 16)          0         \n",
      "                                                                 \n",
      " flatten (Flatten)           (None, 784)               0         \n",
      "                                                                 \n",
      " dense (Dense)               (None, 128)               100480    \n",
      "                                                                 \n",
      " dropout_2 (Dropout)         (None, 128)               0         \n",
      "                                                                 \n",
      " dense_1 (Dense)             (None, 10)                1290      \n",
      "                                                                 \n",
      "=================================================================\n",
      "Total params: 103,018\n",
      "Trainable params: 103,018\n",
      "Non-trainable params: 0\n",
      "_________________________________________________________________\n"
     ]
    }
   ],
   "source": [
    "model.summary()\n",
    "#categorical_crossentropy\n",
    "model.compile(optimizer='adam',\n",
    "              loss='sparse_categorical_crossentropy',\n",
    "              metrics=['accuracy'])"
   ]
  },
  {
   "cell_type": "code",
   "execution_count": 7,
   "metadata": {},
   "outputs": [
    {
     "name": "stdout",
     "output_type": "stream",
     "text": [
      "Requirement already satisfied: scikeras in /Users/mohammedherrag/opt/anaconda3/lib/python3.8/site-packages (0.4.1)\n",
      "Requirement already satisfied: packaging<22.0,>=0.21 in /Users/mohammedherrag/opt/anaconda3/lib/python3.8/site-packages (from scikeras) (20.4)\n",
      "Requirement already satisfied: scikit-learn>=0.22.0 in /Users/mohammedherrag/opt/anaconda3/lib/python3.8/site-packages (from scikeras) (0.23.2)\n",
      "Requirement already satisfied: pyparsing>=2.0.2 in /Users/mohammedherrag/opt/anaconda3/lib/python3.8/site-packages (from packaging<22.0,>=0.21->scikeras) (2.4.7)\n",
      "Requirement already satisfied: six in /Users/mohammedherrag/opt/anaconda3/lib/python3.8/site-packages (from packaging<22.0,>=0.21->scikeras) (1.15.0)\n",
      "Requirement already satisfied: joblib>=0.11 in /Users/mohammedherrag/opt/anaconda3/lib/python3.8/site-packages (from scikit-learn>=0.22.0->scikeras) (0.17.0)\n",
      "Requirement already satisfied: numpy>=1.13.3 in /Users/mohammedherrag/opt/anaconda3/lib/python3.8/site-packages (from scikit-learn>=0.22.0->scikeras) (1.19.2)\n",
      "Requirement already satisfied: scipy>=0.19.1 in /Users/mohammedherrag/opt/anaconda3/lib/python3.8/site-packages (from scikit-learn>=0.22.0->scikeras) (1.5.2)\n",
      "Requirement already satisfied: threadpoolctl>=2.0.0 in /Users/mohammedherrag/opt/anaconda3/lib/python3.8/site-packages (from scikit-learn>=0.22.0->scikeras) (2.1.0)\n"
     ]
    }
   ],
   "source": [
    "!pip install scikeras"
   ]
  },
  {
   "cell_type": "code",
   "execution_count": 8,
   "metadata": {},
   "outputs": [],
   "source": [
    "EPOCH = np.array([16,10])\n",
    "BATCH_SIZE = np.array([128,512])\n",
    "hyperMatrix = dict(epochs=EPOCH, batch_size=BATCH_SIZE)"
   ]
  },
  {
   "cell_type": "code",
   "execution_count": null,
   "metadata": {},
   "outputs": [],
   "source": [
    "from scikeras.wrappers import KerasClassifier\n",
    "from sklearn.model_selection import GridSearchCV\n",
    "model_KerasClassifier = KerasClassifier(model=model,verbose=1,optimizer='adam')\n",
    "gs = GridSearchCV(estimator=model_KerasClassifier, param_grid=hyperMatrix )\n",
    "\n",
    "# On lance l'entrainement\n",
    "gs.fit(x_train, y_train)"
   ]
  },
  {
   "cell_type": "code",
   "execution_count": 41,
   "metadata": {},
   "outputs": [
    {
     "name": "stdout",
     "output_type": "stream",
     "text": [
      "Meilleur Paramétrer:\t{'batch_size': 128, 'epochs': 16}\n",
      "Meilleur Score:\t\t98.83166666666666%\n"
     ]
    }
   ],
   "source": [
    "print(f\"Meilleur Paramétrer:\\t{gs.best_params_}\")\n",
    "print(f\"Meilleur Score:\\t\\t{gs.best_score_*100}%\")"
   ]
  },
  {
   "cell_type": "code",
   "execution_count": 9,
   "metadata": {},
   "outputs": [
    {
     "name": "stdout",
     "output_type": "stream",
     "text": [
      "Epoch 1/16\n",
      "469/469 [==============================] - 9s 18ms/step - loss: 0.4610 - accuracy: 0.8546 - val_loss: 0.1047 - val_accuracy: 0.9667\n",
      "Epoch 2/16\n",
      "469/469 [==============================] - 8s 17ms/step - loss: 0.1643 - accuracy: 0.9487 - val_loss: 0.0623 - val_accuracy: 0.9786\n",
      "Epoch 3/16\n",
      "469/469 [==============================] - 9s 19ms/step - loss: 0.1262 - accuracy: 0.9613 - val_loss: 0.0516 - val_accuracy: 0.9825\n",
      "Epoch 4/16\n",
      "469/469 [==============================] - 9s 19ms/step - loss: 0.1054 - accuracy: 0.9667 - val_loss: 0.0448 - val_accuracy: 0.9848\n",
      "Epoch 5/16\n",
      "469/469 [==============================] - 8s 18ms/step - loss: 0.0944 - accuracy: 0.9707 - val_loss: 0.0398 - val_accuracy: 0.9864\n",
      "Epoch 6/16\n",
      "469/469 [==============================] - 9s 19ms/step - loss: 0.0815 - accuracy: 0.9745 - val_loss: 0.0386 - val_accuracy: 0.9869\n",
      "Epoch 7/16\n",
      "469/469 [==============================] - 8s 18ms/step - loss: 0.0780 - accuracy: 0.9755 - val_loss: 0.0362 - val_accuracy: 0.9875\n",
      "Epoch 8/16\n",
      "469/469 [==============================] - 8s 18ms/step - loss: 0.0726 - accuracy: 0.9771 - val_loss: 0.0322 - val_accuracy: 0.9891\n",
      "Epoch 9/16\n",
      "469/469 [==============================] - 9s 19ms/step - loss: 0.0674 - accuracy: 0.9787 - val_loss: 0.0320 - val_accuracy: 0.9888\n",
      "Epoch 10/16\n",
      "469/469 [==============================] - 8s 18ms/step - loss: 0.0671 - accuracy: 0.9782 - val_loss: 0.0308 - val_accuracy: 0.9897\n",
      "Epoch 11/16\n",
      "469/469 [==============================] - 9s 19ms/step - loss: 0.0609 - accuracy: 0.9809 - val_loss: 0.0310 - val_accuracy: 0.9893\n",
      "Epoch 12/16\n",
      "469/469 [==============================] - 9s 19ms/step - loss: 0.0614 - accuracy: 0.9809 - val_loss: 0.0305 - val_accuracy: 0.9894\n",
      "Epoch 13/16\n",
      "469/469 [==============================] - 8s 17ms/step - loss: 0.0567 - accuracy: 0.9824 - val_loss: 0.0300 - val_accuracy: 0.9898\n",
      "Epoch 14/16\n",
      "469/469 [==============================] - 8s 16ms/step - loss: 0.0569 - accuracy: 0.9823 - val_loss: 0.0283 - val_accuracy: 0.9904\n",
      "Epoch 15/16\n",
      "469/469 [==============================] - 8s 18ms/step - loss: 0.0524 - accuracy: 0.9834 - val_loss: 0.0270 - val_accuracy: 0.9913\n",
      "Epoch 16/16\n",
      "469/469 [==============================] - 10s 22ms/step - loss: 0.0533 - accuracy: 0.9830 - val_loss: 0.0273 - val_accuracy: 0.9909\n"
     ]
    }
   ],
   "source": [
    "batch_size = 128\n",
    "epochs = 16\n",
    "history = model.fit(  x_train, y_train,\n",
    "                      batch_size      = batch_size,\n",
    "                      epochs          = epochs,\n",
    "                      verbose         = 1,\n",
    "                      validation_data = (x_test, y_test))"
   ]
  },
  {
   "cell_type": "code",
   "execution_count": 10,
   "metadata": {},
   "outputs": [
    {
     "name": "stdout",
     "output_type": "stream",
     "text": [
      "313/313 [==============================] - 1s 2ms/step - loss: 0.0273 - accuracy: 0.9909\n"
     ]
    },
    {
     "data": {
      "text/plain": [
       "[0.027342859655618668, 0.9908999800682068]"
      ]
     },
     "execution_count": 10,
     "metadata": {},
     "output_type": "execute_result"
    }
   ],
   "source": [
    "score = model.evaluate(x_test, y_test, verbose=1)\n",
    "score"
   ]
  },
  {
   "cell_type": "code",
   "execution_count": 12,
   "metadata": {},
   "outputs": [
    {
     "ename": "NameError",
     "evalue": "name 'loss' is not defined",
     "output_type": "error",
     "traceback": [
      "\u001b[0;31m---------------------------------------------------------------------------\u001b[0m",
      "\u001b[0;31mNameError\u001b[0m                                 Traceback (most recent call last)",
      "\u001b[0;32m<ipython-input-12-759c3910d321>\u001b[0m in \u001b[0;36m<module>\u001b[0;34m\u001b[0m\n\u001b[0;32m----> 1\u001b[0;31m \u001b[0mhistory\u001b[0m\u001b[0;34m.\u001b[0m\u001b[0mhistory\u001b[0m\u001b[0;34m(\u001b[0m\u001b[0mloss\u001b[0m\u001b[0;34m)\u001b[0m\u001b[0;34m\u001b[0m\u001b[0;34m\u001b[0m\u001b[0m\n\u001b[0m",
      "\u001b[0;31mNameError\u001b[0m: name 'loss' is not defined"
     ]
    }
   ],
   "source": [
    "history.history(loss)"
   ]
  },
  {
   "cell_type": "code",
   "execution_count": 18,
   "metadata": {},
   "outputs": [
    {
     "ename": "TypeError",
     "evalue": "xlabel() missing 1 required positional argument: 'xlabel'",
     "output_type": "error",
     "traceback": [
      "\u001b[0;31m---------------------------------------------------------------------------\u001b[0m",
      "\u001b[0;31mTypeError\u001b[0m                                 Traceback (most recent call last)",
      "\u001b[0;32m<ipython-input-18-83effdfd0b8d>\u001b[0m in \u001b[0;36m<module>\u001b[0;34m\u001b[0m\n\u001b[1;32m      3\u001b[0m \u001b[0mplt\u001b[0m\u001b[0;34m.\u001b[0m\u001b[0mplot\u001b[0m\u001b[0;34m(\u001b[0m\u001b[0mhistory\u001b[0m\u001b[0;34m.\u001b[0m\u001b[0mhistory\u001b[0m\u001b[0;34m[\u001b[0m\u001b[0;34m'loss'\u001b[0m\u001b[0;34m]\u001b[0m\u001b[0;34m,\u001b[0m\u001b[0mlabel\u001b[0m\u001b[0;34m=\u001b[0m\u001b[0;34m\"training loss\"\u001b[0m\u001b[0;34m,\u001b[0m\u001b[0mc\u001b[0m\u001b[0;34m=\u001b[0m\u001b[0;34m'b'\u001b[0m\u001b[0;34m)\u001b[0m\u001b[0;34m\u001b[0m\u001b[0;34m\u001b[0m\u001b[0m\n\u001b[1;32m      4\u001b[0m \u001b[0mplt\u001b[0m\u001b[0;34m.\u001b[0m\u001b[0mplot\u001b[0m\u001b[0;34m(\u001b[0m\u001b[0mhistory\u001b[0m\u001b[0;34m.\u001b[0m\u001b[0mhistory\u001b[0m\u001b[0;34m[\u001b[0m\u001b[0;34m'val_loss'\u001b[0m\u001b[0;34m]\u001b[0m\u001b[0;34m,\u001b[0m\u001b[0mlabel\u001b[0m\u001b[0;34m=\u001b[0m\u001b[0;34m\"validation loss\"\u001b[0m\u001b[0;34m,\u001b[0m\u001b[0mc\u001b[0m\u001b[0;34m=\u001b[0m\u001b[0;34m'r'\u001b[0m\u001b[0;34m)\u001b[0m\u001b[0;34m\u001b[0m\u001b[0;34m\u001b[0m\u001b[0m\n\u001b[0;32m----> 5\u001b[0;31m \u001b[0mplt\u001b[0m\u001b[0;34m.\u001b[0m\u001b[0mxlabel\u001b[0m\u001b[0;34m(\u001b[0m\u001b[0;34m)\u001b[0m\u001b[0;34m\u001b[0m\u001b[0;34m\u001b[0m\u001b[0m\n\u001b[0m\u001b[1;32m      6\u001b[0m \u001b[0mplt\u001b[0m\u001b[0;34m.\u001b[0m\u001b[0mylabel\u001b[0m\u001b[0;34m(\u001b[0m\u001b[0;34m)\u001b[0m\u001b[0;34m\u001b[0m\u001b[0;34m\u001b[0m\u001b[0m\n\u001b[1;32m      7\u001b[0m \u001b[0mplt\u001b[0m\u001b[0;34m.\u001b[0m\u001b[0mtitle\u001b[0m\u001b[0;34m(\u001b[0m\u001b[0;34m\"__\"\u001b[0m\u001b[0;34m)\u001b[0m\u001b[0;34m\u001b[0m\u001b[0;34m\u001b[0m\u001b[0m\n",
      "\u001b[0;31mTypeError\u001b[0m: xlabel() missing 1 required positional argument: 'xlabel'"
     ]
    },
    {
     "data": {
      "image/png": "[encoded data removed]",
      "text/plain": [
       "<Figure size 864x576 with 1 Axes>"
      ]
     },
     "metadata": {
      "needs_background": "light"
     },
     "output_type": "display_data"
    }
   ],
   "source": [
    "plt.figure(figsize=(12,8))\n",
    "#plt.subplots(2,1,1)\n",
    "plt.plot(history.history['loss'],label=\"training loss\",c='b')\n",
    "plt.plot(history.history['val_loss'],label=\"validation loss\",c='r')\n",
    "plt.xlabel()\n",
    "plt.ylabel()\n",
    "plt.title(\"__\")\n",
    "plt.legend(fontsize=20)\n",
    "plt.show()"
   ]
  },
  {
   "cell_type": "code",
   "execution_count": null,
   "metadata": {},
   "outputs": [],
   "source": []
  }
 ],
 "metadata": {
  "kernelspec": {
   "display_name": "Python (myenv)",
   "language": "python",
   "name": "myenv"
  },
  "language_info": {
   "codemirror_mode": {
    "name": "ipython",
    "version": 3
   },
   "file_extension": ".py",
   "mimetype": "text/x-python",
   "name": "python",
   "nbconvert_exporter": "python",
   "pygments_lexer": "ipython3",
   "version": "3.8.5"
  }
 },
 "nbformat": 4,
 "nbformat_minor": 4
}
